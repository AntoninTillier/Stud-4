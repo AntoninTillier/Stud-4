{
  "nbformat": 4,
  "nbformat_minor": 0,
  "metadata": {
    "colab": {
      "provenance": []
    },
    "kernelspec": {
      "name": "python3",
      "display_name": "Python 3"
    },
    "language_info": {
      "name": "python"
    }
  },
  "cells": [
    {
      "cell_type": "markdown",
      "source": [
        "**Exercice 1 : Frequent pattern mining**\n",
        "\n",
        "Let « buy » be a table representing transactions (see below). There are 3 attributes: « Tid », « Type » and « Price » exists a functional dependency between Type and Price (a same type of item always corresponds to the same price)."
      ],
      "metadata": {
        "id": "EgynwAPtdrfR"
      }
    },
    {
      "cell_type": "markdown",
      "source": [
        "| Tid | Type   | Price |\n",
        "|-----|--------|-------|\n",
        "| 1   | Apple  | 2     |\n",
        "| 1   | Bread  | 4     |\n",
        "| 1   | Donut  | 3     |\n",
        "| 1   | Egg    | 4     |\n",
        "| 2   | Apple  | 2     |\n",
        "| 2   | Bread  | 4     |\n",
        "| 2   | Cheese | 1     |\n",
        "| 2   | Donut  | 3     |\n",
        "| 2   | Flour  | 4     |\n",
        "| 3   | Bread  | 4     |\n",
        "| 3   | Donut  | 3     |\n",
        "| 3   | Flour  | 4     |\n",
        "| 4   | Cheese | 1     |\n",
        "| 4   | Egg    | 4     |\n",
        "| 4   | Flour  | 4     |"
      ],
      "metadata": {
        "id": "kUGZ_R-xdz04"
      }
    },
    {
      "cell_type": "markdown",
      "source": [
        "Starting from this dataset, we are interested in association rules: X -> Apple where X is a set of types of item. Let us note that X.Price denotes the multi-set of prices of each type included in X. Then, we can apply an aggregate function (e.g., sum, max or avg) on values X.Price. For instance, {Apple;Bread}.Price equals to {2;4} and then, sum({Apple;Bread}.Price) = 6."
      ],
      "metadata": {
        "id": "G6nuBbc8d1JX"
      }
    },
    {
      "cell_type": "code",
      "source": [
        "import pandas as pd\n",
        "import numpy as np\n",
        "import itertools\n",
        "\n",
        "data = pd.DataFrame({\n",
        "    'Tid': [1, 1, 1, 1, 2, 2, 2, 2, 2, 3, 3, 3, 4, 4, 4],\n",
        "    'Type': ['Apple', 'Bread', 'Donut', 'Egg', 'Apple', 'Bread', 'Cheese', 'Donut', 'Flour', 'Bread', 'Donut', 'Flour', 'Cheese', 'Egg', 'Flour'],\n",
        "    'Price': [2, 4, 3, 4, 2, 4, 1, 3, 4, 4, 3, 4, 1, 4, 4]\n",
        "})\n",
        "\n",
        "def calculate_support(itemset, data):\n",
        "    num_transactions = data['Tid'].nunique()\n",
        "    support = (data.groupby('Tid')['Type'].apply(set).apply(itemset.issubset).sum()) / num_transactions\n",
        "    return support"
      ],
      "metadata": {
        "id": "gSQ7u1NAeAqu"
      },
      "execution_count": 24,
      "outputs": []
    },
    {
      "cell_type": "markdown",
      "source": [
        "Assuming that the minimal support threshold is 50%, enumerate all the frequent sets of types. Your answer must be represented with a lattice."
      ],
      "metadata": {
        "id": "XpCDJUyTd-Wh"
      }
    },
    {
      "cell_type": "code",
      "execution_count": 25,
      "metadata": {
        "colab": {
          "base_uri": "https://localhost:8080/"
        },
        "id": "IMrNk3xMdlJF",
        "outputId": "777f4d86-8c2e-417a-8495-1c5c9dba48bd"
      },
      "outputs": [
        {
          "output_type": "stream",
          "name": "stdout",
          "text": [
            "Frequent Sets of Types (Support >= 50%):\n",
            "{'Apple'}: Support 0.50\n",
            "{'Bread'}: Support 0.75\n",
            "{'Donut'}: Support 0.75\n",
            "{'Egg'}: Support 0.50\n",
            "{'Cheese'}: Support 0.50\n",
            "{'Flour'}: Support 0.75\n",
            "{'Bread', 'Apple'}: Support 0.50\n",
            "{'Donut', 'Apple'}: Support 0.50\n",
            "{'Bread', 'Donut'}: Support 0.75\n",
            "{'Bread', 'Flour'}: Support 0.50\n",
            "{'Donut', 'Flour'}: Support 0.50\n",
            "{'Flour', 'Cheese'}: Support 0.50\n",
            "{'Donut', 'Bread', 'Apple'}: Support 0.50\n",
            "{'Bread', 'Donut', 'Flour'}: Support 0.50\n"
          ]
        }
      ],
      "source": [
        "min_support = 0.5\n",
        "frequent_itemsets = []\n",
        "unique_types = data['Type'].unique()\n",
        "for r in range(1, len(unique_types) + 1):\n",
        "    for combo in itertools.combinations(unique_types, r):\n",
        "        itemset = set(combo)\n",
        "        support = calculate_support(itemset, data)\n",
        "        if support >= min_support:\n",
        "            frequent_itemsets.append((itemset, support))\n",
        "print(\"Frequent Sets of Types (Support >= 50%):\")\n",
        "for itemset, support in frequent_itemsets:\n",
        "    print(f\"{itemset}: Support {support:.2f}\")"
      ]
    },
    {
      "cell_type": "markdown",
      "source": [
        "Find all the confidence of rules X -> Apple which support exceeds 50%. What are the redundant associatio rules?"
      ],
      "metadata": {
        "id": "_eTRVXHDegy5"
      }
    },
    {
      "cell_type": "code",
      "source": [
        "min_confidence = 0.5\n",
        "association_rules = []\n",
        "for itemset, support in frequent_itemsets:\n",
        "    if 'Apple' in itemset:\n",
        "        antecedent = itemset.difference(['Apple'])\n",
        "        confidence = support / calculate_support(antecedent, data)\n",
        "        if confidence >= min_confidence:\n",
        "            association_rules.append((antecedent, 'Apple', confidence))\n",
        "print(\"\\nAssociation Rules (Confidence >= 50%):\")\n",
        "for antecedent, consequent, confidence in association_rules:\n",
        "    print(f\"{antecedent} -> {consequent}: Confidence {confidence:.2f}\")"
      ],
      "metadata": {
        "colab": {
          "base_uri": "https://localhost:8080/"
        },
        "id": "K-hiKuv_hErT",
        "outputId": "9d0af1dc-cdbd-4994-ef9a-ca8fd4a76590"
      },
      "execution_count": 26,
      "outputs": [
        {
          "output_type": "stream",
          "name": "stdout",
          "text": [
            "\n",
            "Association Rules (Confidence >= 50%):\n",
            "set() -> Apple: Confidence 0.50\n",
            "{'Bread'} -> Apple: Confidence 0.67\n",
            "{'Donut'} -> Apple: Confidence 0.67\n",
            "{'Donut', 'Bread'} -> Apple: Confidence 0.67\n"
          ]
        }
      ]
    },
    {
      "cell_type": "markdown",
      "source": [
        "Now we consider that the constraint is sum(X.Price)≤6 (we do not take into account the support). Which kind of property satisfies this constraint? Find all the sets of types satisfying sum(X.Price)≤6 by building a lattice."
      ],
      "metadata": {
        "id": "2mYbJyX5hFCO"
      }
    },
    {
      "cell_type": "code",
      "source": [
        "# Calculate the maximum constraint value\n",
        "max_constraint = 6\n",
        "# Get unique types and their corresponding prices\n",
        "unique_types = data[['Type', 'Price']].drop_duplicates()\n",
        "# Create a dictionary to store type-price pairs\n",
        "type_price_dict = {}\n",
        "for _, row in unique_types.iterrows():\n",
        "    type_price_dict[row['Type']] = row['Price']\n",
        "\n",
        "def calculate_total_price(itemset, type_price_dict):\n",
        "    total_price = sum(type_price_dict[type] for type in itemset)\n",
        "    return total_price\n",
        "\n",
        "# Generate all possible combinations of types\n",
        "all_combinations = []\n",
        "for r in range(1, len(unique_types) + 1):\n",
        "    combinations = itertools.combinations(unique_types['Type'], r)\n",
        "    all_combinations.extend(combinations)\n",
        "# Find sets of types satisfying the constraint sum(X.Price) <= max_constraint\n",
        "valid_sets = []\n",
        "for itemset in all_combinations:\n",
        "    total_price = calculate_total_price(itemset, type_price_dict)\n",
        "    if total_price <= max_constraint:\n",
        "        valid_sets.append(itemset)\n",
        "print(\"Sets of Types satisfying sum(X.Price) <= 6:\")\n",
        "for itemset in valid_sets:\n",
        "    print(itemset)"
      ],
      "metadata": {
        "colab": {
          "base_uri": "https://localhost:8080/"
        },
        "id": "3d_M62CQhHls",
        "outputId": "c0da060f-326b-4f23-b797-bf4ad25fc2f3"
      },
      "execution_count": 27,
      "outputs": [
        {
          "output_type": "stream",
          "name": "stdout",
          "text": [
            "Sets of Types satisfying sum(X.Price) <= 6:\n",
            "('Apple',)\n",
            "('Bread',)\n",
            "('Donut',)\n",
            "('Egg',)\n",
            "('Cheese',)\n",
            "('Flour',)\n",
            "('Apple', 'Bread')\n",
            "('Apple', 'Donut')\n",
            "('Apple', 'Egg')\n",
            "('Apple', 'Cheese')\n",
            "('Apple', 'Flour')\n",
            "('Bread', 'Cheese')\n",
            "('Donut', 'Cheese')\n",
            "('Egg', 'Cheese')\n",
            "('Cheese', 'Flour')\n",
            "('Apple', 'Donut', 'Cheese')\n"
          ]
        }
      ]
    },
    {
      "cell_type": "markdown",
      "source": [
        "Now we consider that the constraint is avg(X.Price)≤2.5. What is the difficulty of such kind of constraints? Propose a way enabling to mine the desired sets?"
      ],
      "metadata": {
        "id": "h_sWB1zRhHMl"
      }
    },
    {
      "cell_type": "code",
      "source": [
        "avg_price_constraint = 2.5\n",
        "filtered_types = []\n",
        "for itemset, support in frequent_itemsets:\n",
        "    itemset_prices = data[data['Type'].isin(itemset)]['Price'].values\n",
        "    avg_price = np.mean(itemset_prices)\n",
        "    if avg_price <= avg_price_constraint:\n",
        "        filtered_types.append(itemset)\n",
        "print(\"\\nSets of Types satisfying avg(X.Price) <= 2.5:\")\n",
        "for itemset in filtered_types:\n",
        "    print(itemset)"
      ],
      "metadata": {
        "colab": {
          "base_uri": "https://localhost:8080/"
        },
        "id": "yv0122pRhLTL",
        "outputId": "0cd9bb7e-8ceb-4de4-d485-2fe3a564cacd"
      },
      "execution_count": 28,
      "outputs": [
        {
          "output_type": "stream",
          "name": "stdout",
          "text": [
            "\n",
            "Sets of Types satisfying avg(X.Price) <= 2.5:\n",
            "{'Apple'}\n",
            "{'Cheese'}\n"
          ]
        }
      ]
    },
    {
      "cell_type": "markdown",
      "source": [
        "**Exercice 2 : Lift**\n",
        "\n",
        "The interestingness measure lift is often used in pattern mining to mine relevant association rules. Given an association rule X->Y where the support of X and Y is not 0, the lift is defined by:\n",
        "  Lift(X->Y) = Supp(X->Y)/(Supp(X)*Supp(Y))\n",
        "  \n",
        "where Supp(X->Y) denotes the support of the rule X->Y and Supp(X) denotes the proportion of transactions containing X."
      ],
      "metadata": {
        "id": "Loxq0jPOiysL"
      }
    },
    {
      "cell_type": "markdown",
      "source": [
        "Rewrite the lift using the confidence of the rule X->Y"
      ],
      "metadata": {
        "id": "FWhScWXJjAUV"
      }
    },
    {
      "cell_type": "code",
      "source": [
        "def calculate_lift(confidence, support_X, support_Y):\n",
        "    if support_X == 0 or support_Y == 0:\n",
        "        return 0  # Lift is undefined in this case\n",
        "    return confidence / (support_X * support_Y)\n",
        "\n",
        "# Example values for confidence, support of X, and support of Y\n",
        "confidence_XY = 0.7  # Confidence of rule X->Y\n",
        "support_X = 0.5  # Support of itemset X\n",
        "support_Y = 0.4  # Support of itemset Y\n",
        "lift_XY = calculate_lift(confidence_XY, support_X, support_Y)\n",
        "print(\"Lift(X->Y):\", lift_XY)"
      ],
      "metadata": {
        "colab": {
          "base_uri": "https://localhost:8080/"
        },
        "id": "Uaquocc9jJ9B",
        "outputId": "d77ab37d-354f-455a-dc48-cb0378ad62e3"
      },
      "execution_count": 29,
      "outputs": [
        {
          "output_type": "stream",
          "name": "stdout",
          "text": [
            "Lift(X->Y): 3.4999999999999996\n"
          ]
        }
      ]
    },
    {
      "cell_type": "markdown",
      "source": [
        "Give the range of lift"
      ],
      "metadata": {
        "id": "hOT2JB4kjKMV"
      }
    },
    {
      "cell_type": "code",
      "source": [
        "def interpret_lift(lift):\n",
        "    if lift == 0:\n",
        "        return \"There is no association between X and Y.\"\n",
        "    elif 0 < lift < 1:\n",
        "        return \"X and Y are negatively associated.\"\n",
        "    elif lift == 1:\n",
        "        return \"X and Y are independent.\"\n",
        "    elif lift > 1:\n",
        "        return \"X and Y are positively associated.\""
      ],
      "metadata": {
        "id": "XRdS-P3dmfjO"
      },
      "execution_count": 30,
      "outputs": []
    },
    {
      "cell_type": "markdown",
      "source": [
        "| Tid | Items   |\n",
        "|-----|--------|\n",
        "| 1   | ABCD  |\n",
        "| 2   | ADE  |\n",
        "| 3   | BDE  |\n",
        "| 4   | E    |\n",
        "\n",
        "- Compute the lift of the rules A->set(), A->B and A->BC"
      ],
      "metadata": {
        "id": "nU7hfdXZmi6R"
      }
    },
    {
      "cell_type": "code",
      "source": [
        "transactions = [\n",
        "    {\"Tid\": 1, \"Items\": \"ABCD\"},\n",
        "    {\"Tid\": 2, \"Items\": \"ADE\"},\n",
        "    {\"Tid\": 3, \"Items\": \"BDE\"},\n",
        "    {\"Tid\": 4, \"Items\": \"E\"},\n",
        "]\n",
        "transaction = [[*transaction[\"Items\"]] for transaction in transactions]\n",
        "\n",
        "def calculate_support(itemset, transaction):\n",
        "    count = 0\n",
        "    for t in transaction:\n",
        "        if all(item in t for item in itemset):\n",
        "            count += 1\n",
        "    return count / len(transaction)\n",
        "\n",
        "\n",
        "# Define the support of individual items\n",
        "support_A = calculate_support([\"A\"], transaction)\n",
        "support_B = calculate_support([\"B\"], transaction)\n",
        "support_C = calculate_support([\"C\"], transaction)\n",
        "support_D = calculate_support([\"D\"], transaction)\n",
        "support_E = calculate_support([\"E\"], transaction)\n",
        "# Calculate the confidence of the rules\n",
        "confidence_A_empty = 1.0  # A->set()\n",
        "confidence_A_B = calculate_support([\"A\", \"B\"], transaction) / support_A  # A->B\n",
        "confidence_A_BC = calculate_support([\"A\", \"B\", \"C\"], transaction) / support_A  # A->BC\n",
        "# Calculate the lift of the rules\n",
        "lift_A_empty = calculate_lift(confidence_A_empty, support_A, 1)  # A->set()\n",
        "lift_A_B = calculate_lift(confidence_A_B, support_A, support_B)  # A->B\n",
        "lift_A_BC = calculate_lift(confidence_A_BC, support_A, calculate_support([\"B\", \"C\"], transaction))  # A->BC\n",
        "# Print the lift values\n",
        "print(\"Lift(A->set()):\", lift_A_empty, interpret_lift(lift_A_empty))\n",
        "print(\"Lift(A->B):\", lift_A_B, interpret_lift(lift_A_B))\n",
        "print(\"Lift(A->BC):\", lift_A_BC, interpret_lift(lift_A_BC))"
      ],
      "metadata": {
        "colab": {
          "base_uri": "https://localhost:8080/"
        },
        "id": "JRBhMBuimic6",
        "outputId": "174e17fa-5d03-4873-b0d9-acc82f0d3499"
      },
      "execution_count": 31,
      "outputs": [
        {
          "output_type": "stream",
          "name": "stdout",
          "text": [
            "Lift(A->set()): 2.0 X and Y are positively associated.\n",
            "Lift(A->B): 2.0 X and Y are positively associated.\n",
            "Lift(A->BC): 4.0 X and Y are positively associated.\n"
          ]
        }
      ]
    },
    {
      "cell_type": "markdown",
      "source": [
        "Compute all the itemsets of D whose support exceeds 49% and represent them by means of a lattice."
      ],
      "metadata": {
        "id": "QE-sit1coClx"
      }
    },
    {
      "cell_type": "code",
      "source": [
        "# Calculate the total number of transactions\n",
        "total_transactions = len(transactions)\n",
        "\n",
        "def calculate_support(itemset):\n",
        "    count = sum(1 for transaction in transactions if all(item in transaction[\"Items\"] for item in itemset))\n",
        "    return count / total_transactions\n",
        "\n",
        "# Define the support threshold (49%)\n",
        "support_threshold = 0.49\n",
        "# Generate all single items\n",
        "single_items = set(item for transaction in transactions for item in transaction[\"Items\"])\n",
        "# Initialize frequent itemsets\n",
        "frequent_itemsets = []\n",
        "# Generate frequent itemsets\n",
        "for item in single_items:\n",
        "    support = calculate_support({item})\n",
        "    if support >= support_threshold:\n",
        "        frequent_itemsets.append(({item}, support))\n",
        "# Generate larger frequent itemsets\n",
        "for size in range(2, len(single_items) + 1):\n",
        "    item_combinations = itertools.combinations(single_items, size)\n",
        "    for itemset in item_combinations:\n",
        "        support = calculate_support(set(itemset))\n",
        "        if support >= support_threshold:\n",
        "            frequent_itemsets.append((set(itemset), support))\n",
        "# Print frequent itemsets and their support\n",
        "for itemset, support in frequent_itemsets:\n",
        "    print(f\"Itemset: {itemset}, Support: {support:.2f}\")"
      ],
      "metadata": {
        "colab": {
          "base_uri": "https://localhost:8080/"
        },
        "id": "WADPJsERoDAU",
        "outputId": "8e7cb0dd-56d0-4a9f-f21e-5568a4d0793b"
      },
      "execution_count": 32,
      "outputs": [
        {
          "output_type": "stream",
          "name": "stdout",
          "text": [
            "Itemset: {'B'}, Support: 0.50\n",
            "Itemset: {'A'}, Support: 0.50\n",
            "Itemset: {'E'}, Support: 0.75\n",
            "Itemset: {'D'}, Support: 0.75\n",
            "Itemset: {'B', 'D'}, Support: 0.50\n",
            "Itemset: {'D', 'A'}, Support: 0.50\n",
            "Itemset: {'E', 'D'}, Support: 0.50\n"
          ]
        }
      ]
    },
    {
      "cell_type": "code",
      "source": [
        "import plotly.graph_objs as go\n",
        "\n",
        "# Create a lattice representation\n",
        "lattice_data = [f\"{', '.join(itemset)} (Support: {support:.2f})\" for itemset, support in frequent_itemsets]\n",
        "# Define the layout and appearance of the lattice\n",
        "layout = go.Layout(\n",
        "    title=\"Lattice Representation of Frequent Itemsets\",\n",
        "    xaxis=dict(title=\"Frequent Itemsets\"),\n",
        "    yaxis=dict(title=\"Support Value\"),\n",
        "    showlegend=False,\n",
        ")\n",
        "# Create a bar chart for the lattice\n",
        "fig = go.Figure(data=[go.Bar(x=lattice_data, y=[support for _, support in frequent_itemsets])], layout=layout)\n",
        "# Customize the appearance and layout of the lattice\n",
        "fig.update_layout(\n",
        "    xaxis_title=\"Frequent Itemsets\",\n",
        "    yaxis_title=\"Support Value\",\n",
        "    xaxis_tickangle=-45,\n",
        ")\n",
        "# Show the lattice plot\n",
        "fig.show()"
      ],
      "metadata": {
        "colab": {
          "base_uri": "https://localhost:8080/",
          "height": 542
        },
        "id": "auUITMyyrtsv",
        "outputId": "4f1890f8-9f5b-4a49-c945-f34c0d27519c"
      },
      "execution_count": 34,
      "outputs": [
        {
          "output_type": "display_data",
          "data": {
            "text/html": [
              "<html>\n",
              "<head><meta charset=\"utf-8\" /></head>\n",
              "<body>\n",
              "    <div>            <script src=\"https://cdnjs.cloudflare.com/ajax/libs/mathjax/2.7.5/MathJax.js?config=TeX-AMS-MML_SVG\"></script><script type=\"text/javascript\">if (window.MathJax && window.MathJax.Hub && window.MathJax.Hub.Config) {window.MathJax.Hub.Config({SVG: {font: \"STIX-Web\"}});}</script>                <script type=\"text/javascript\">window.PlotlyConfig = {MathJaxConfig: 'local'};</script>\n",
              "        <script charset=\"utf-8\" src=\"https://cdn.plot.ly/plotly-2.24.1.min.js\"></script>                <div id=\"6d0b45f8-9464-4c6c-9783-06e767ede276\" class=\"plotly-graph-div\" style=\"height:525px; width:100%;\"></div>            <script type=\"text/javascript\">                                    window.PLOTLYENV=window.PLOTLYENV || {};                                    if (document.getElementById(\"6d0b45f8-9464-4c6c-9783-06e767ede276\")) {                    Plotly.newPlot(                        \"6d0b45f8-9464-4c6c-9783-06e767ede276\",                        [{\"x\":[\"B (Support: 0.50)\",\"A (Support: 0.50)\",\"E (Support: 0.75)\",\"D (Support: 0.75)\",\"B, D (Support: 0.50)\",\"D, A (Support: 0.50)\",\"E, D (Support: 0.50)\"],\"y\":[0.5,0.5,0.75,0.75,0.5,0.5,0.5],\"type\":\"bar\"}],                        {\"showlegend\":false,\"title\":{\"text\":\"Lattice Representation of Frequent Itemsets\"},\"xaxis\":{\"title\":{\"text\":\"Frequent Itemsets\"},\"tickangle\":-45},\"yaxis\":{\"title\":{\"text\":\"Support Value\"}},\"template\":{\"data\":{\"histogram2dcontour\":[{\"type\":\"histogram2dcontour\",\"colorbar\":{\"outlinewidth\":0,\"ticks\":\"\"},\"colorscale\":[[0.0,\"#0d0887\"],[0.1111111111111111,\"#46039f\"],[0.2222222222222222,\"#7201a8\"],[0.3333333333333333,\"#9c179e\"],[0.4444444444444444,\"#bd3786\"],[0.5555555555555556,\"#d8576b\"],[0.6666666666666666,\"#ed7953\"],[0.7777777777777778,\"#fb9f3a\"],[0.8888888888888888,\"#fdca26\"],[1.0,\"#f0f921\"]]}],\"choropleth\":[{\"type\":\"choropleth\",\"colorbar\":{\"outlinewidth\":0,\"ticks\":\"\"}}],\"histogram2d\":[{\"type\":\"histogram2d\",\"colorbar\":{\"outlinewidth\":0,\"ticks\":\"\"},\"colorscale\":[[0.0,\"#0d0887\"],[0.1111111111111111,\"#46039f\"],[0.2222222222222222,\"#7201a8\"],[0.3333333333333333,\"#9c179e\"],[0.4444444444444444,\"#bd3786\"],[0.5555555555555556,\"#d8576b\"],[0.6666666666666666,\"#ed7953\"],[0.7777777777777778,\"#fb9f3a\"],[0.8888888888888888,\"#fdca26\"],[1.0,\"#f0f921\"]]}],\"heatmap\":[{\"type\":\"heatmap\",\"colorbar\":{\"outlinewidth\":0,\"ticks\":\"\"},\"colorscale\":[[0.0,\"#0d0887\"],[0.1111111111111111,\"#46039f\"],[0.2222222222222222,\"#7201a8\"],[0.3333333333333333,\"#9c179e\"],[0.4444444444444444,\"#bd3786\"],[0.5555555555555556,\"#d8576b\"],[0.6666666666666666,\"#ed7953\"],[0.7777777777777778,\"#fb9f3a\"],[0.8888888888888888,\"#fdca26\"],[1.0,\"#f0f921\"]]}],\"heatmapgl\":[{\"type\":\"heatmapgl\",\"colorbar\":{\"outlinewidth\":0,\"ticks\":\"\"},\"colorscale\":[[0.0,\"#0d0887\"],[0.1111111111111111,\"#46039f\"],[0.2222222222222222,\"#7201a8\"],[0.3333333333333333,\"#9c179e\"],[0.4444444444444444,\"#bd3786\"],[0.5555555555555556,\"#d8576b\"],[0.6666666666666666,\"#ed7953\"],[0.7777777777777778,\"#fb9f3a\"],[0.8888888888888888,\"#fdca26\"],[1.0,\"#f0f921\"]]}],\"contourcarpet\":[{\"type\":\"contourcarpet\",\"colorbar\":{\"outlinewidth\":0,\"ticks\":\"\"}}],\"contour\":[{\"type\":\"contour\",\"colorbar\":{\"outlinewidth\":0,\"ticks\":\"\"},\"colorscale\":[[0.0,\"#0d0887\"],[0.1111111111111111,\"#46039f\"],[0.2222222222222222,\"#7201a8\"],[0.3333333333333333,\"#9c179e\"],[0.4444444444444444,\"#bd3786\"],[0.5555555555555556,\"#d8576b\"],[0.6666666666666666,\"#ed7953\"],[0.7777777777777778,\"#fb9f3a\"],[0.8888888888888888,\"#fdca26\"],[1.0,\"#f0f921\"]]}],\"surface\":[{\"type\":\"surface\",\"colorbar\":{\"outlinewidth\":0,\"ticks\":\"\"},\"colorscale\":[[0.0,\"#0d0887\"],[0.1111111111111111,\"#46039f\"],[0.2222222222222222,\"#7201a8\"],[0.3333333333333333,\"#9c179e\"],[0.4444444444444444,\"#bd3786\"],[0.5555555555555556,\"#d8576b\"],[0.6666666666666666,\"#ed7953\"],[0.7777777777777778,\"#fb9f3a\"],[0.8888888888888888,\"#fdca26\"],[1.0,\"#f0f921\"]]}],\"mesh3d\":[{\"type\":\"mesh3d\",\"colorbar\":{\"outlinewidth\":0,\"ticks\":\"\"}}],\"scatter\":[{\"fillpattern\":{\"fillmode\":\"overlay\",\"size\":10,\"solidity\":0.2},\"type\":\"scatter\"}],\"parcoords\":[{\"type\":\"parcoords\",\"line\":{\"colorbar\":{\"outlinewidth\":0,\"ticks\":\"\"}}}],\"scatterpolargl\":[{\"type\":\"scatterpolargl\",\"marker\":{\"colorbar\":{\"outlinewidth\":0,\"ticks\":\"\"}}}],\"bar\":[{\"error_x\":{\"color\":\"#2a3f5f\"},\"error_y\":{\"color\":\"#2a3f5f\"},\"marker\":{\"line\":{\"color\":\"#E5ECF6\",\"width\":0.5},\"pattern\":{\"fillmode\":\"overlay\",\"size\":10,\"solidity\":0.2}},\"type\":\"bar\"}],\"scattergeo\":[{\"type\":\"scattergeo\",\"marker\":{\"colorbar\":{\"outlinewidth\":0,\"ticks\":\"\"}}}],\"scatterpolar\":[{\"type\":\"scatterpolar\",\"marker\":{\"colorbar\":{\"outlinewidth\":0,\"ticks\":\"\"}}}],\"histogram\":[{\"marker\":{\"pattern\":{\"fillmode\":\"overlay\",\"size\":10,\"solidity\":0.2}},\"type\":\"histogram\"}],\"scattergl\":[{\"type\":\"scattergl\",\"marker\":{\"colorbar\":{\"outlinewidth\":0,\"ticks\":\"\"}}}],\"scatter3d\":[{\"type\":\"scatter3d\",\"line\":{\"colorbar\":{\"outlinewidth\":0,\"ticks\":\"\"}},\"marker\":{\"colorbar\":{\"outlinewidth\":0,\"ticks\":\"\"}}}],\"scattermapbox\":[{\"type\":\"scattermapbox\",\"marker\":{\"colorbar\":{\"outlinewidth\":0,\"ticks\":\"\"}}}],\"scatterternary\":[{\"type\":\"scatterternary\",\"marker\":{\"colorbar\":{\"outlinewidth\":0,\"ticks\":\"\"}}}],\"scattercarpet\":[{\"type\":\"scattercarpet\",\"marker\":{\"colorbar\":{\"outlinewidth\":0,\"ticks\":\"\"}}}],\"carpet\":[{\"aaxis\":{\"endlinecolor\":\"#2a3f5f\",\"gridcolor\":\"white\",\"linecolor\":\"white\",\"minorgridcolor\":\"white\",\"startlinecolor\":\"#2a3f5f\"},\"baxis\":{\"endlinecolor\":\"#2a3f5f\",\"gridcolor\":\"white\",\"linecolor\":\"white\",\"minorgridcolor\":\"white\",\"startlinecolor\":\"#2a3f5f\"},\"type\":\"carpet\"}],\"table\":[{\"cells\":{\"fill\":{\"color\":\"#EBF0F8\"},\"line\":{\"color\":\"white\"}},\"header\":{\"fill\":{\"color\":\"#C8D4E3\"},\"line\":{\"color\":\"white\"}},\"type\":\"table\"}],\"barpolar\":[{\"marker\":{\"line\":{\"color\":\"#E5ECF6\",\"width\":0.5},\"pattern\":{\"fillmode\":\"overlay\",\"size\":10,\"solidity\":0.2}},\"type\":\"barpolar\"}],\"pie\":[{\"automargin\":true,\"type\":\"pie\"}]},\"layout\":{\"autotypenumbers\":\"strict\",\"colorway\":[\"#636efa\",\"#EF553B\",\"#00cc96\",\"#ab63fa\",\"#FFA15A\",\"#19d3f3\",\"#FF6692\",\"#B6E880\",\"#FF97FF\",\"#FECB52\"],\"font\":{\"color\":\"#2a3f5f\"},\"hovermode\":\"closest\",\"hoverlabel\":{\"align\":\"left\"},\"paper_bgcolor\":\"white\",\"plot_bgcolor\":\"#E5ECF6\",\"polar\":{\"bgcolor\":\"#E5ECF6\",\"angularaxis\":{\"gridcolor\":\"white\",\"linecolor\":\"white\",\"ticks\":\"\"},\"radialaxis\":{\"gridcolor\":\"white\",\"linecolor\":\"white\",\"ticks\":\"\"}},\"ternary\":{\"bgcolor\":\"#E5ECF6\",\"aaxis\":{\"gridcolor\":\"white\",\"linecolor\":\"white\",\"ticks\":\"\"},\"baxis\":{\"gridcolor\":\"white\",\"linecolor\":\"white\",\"ticks\":\"\"},\"caxis\":{\"gridcolor\":\"white\",\"linecolor\":\"white\",\"ticks\":\"\"}},\"coloraxis\":{\"colorbar\":{\"outlinewidth\":0,\"ticks\":\"\"}},\"colorscale\":{\"sequential\":[[0.0,\"#0d0887\"],[0.1111111111111111,\"#46039f\"],[0.2222222222222222,\"#7201a8\"],[0.3333333333333333,\"#9c179e\"],[0.4444444444444444,\"#bd3786\"],[0.5555555555555556,\"#d8576b\"],[0.6666666666666666,\"#ed7953\"],[0.7777777777777778,\"#fb9f3a\"],[0.8888888888888888,\"#fdca26\"],[1.0,\"#f0f921\"]],\"sequentialminus\":[[0.0,\"#0d0887\"],[0.1111111111111111,\"#46039f\"],[0.2222222222222222,\"#7201a8\"],[0.3333333333333333,\"#9c179e\"],[0.4444444444444444,\"#bd3786\"],[0.5555555555555556,\"#d8576b\"],[0.6666666666666666,\"#ed7953\"],[0.7777777777777778,\"#fb9f3a\"],[0.8888888888888888,\"#fdca26\"],[1.0,\"#f0f921\"]],\"diverging\":[[0,\"#8e0152\"],[0.1,\"#c51b7d\"],[0.2,\"#de77ae\"],[0.3,\"#f1b6da\"],[0.4,\"#fde0ef\"],[0.5,\"#f7f7f7\"],[0.6,\"#e6f5d0\"],[0.7,\"#b8e186\"],[0.8,\"#7fbc41\"],[0.9,\"#4d9221\"],[1,\"#276419\"]]},\"xaxis\":{\"gridcolor\":\"white\",\"linecolor\":\"white\",\"ticks\":\"\",\"title\":{\"standoff\":15},\"zerolinecolor\":\"white\",\"automargin\":true,\"zerolinewidth\":2},\"yaxis\":{\"gridcolor\":\"white\",\"linecolor\":\"white\",\"ticks\":\"\",\"title\":{\"standoff\":15},\"zerolinecolor\":\"white\",\"automargin\":true,\"zerolinewidth\":2},\"scene\":{\"xaxis\":{\"backgroundcolor\":\"#E5ECF6\",\"gridcolor\":\"white\",\"linecolor\":\"white\",\"showbackground\":true,\"ticks\":\"\",\"zerolinecolor\":\"white\",\"gridwidth\":2},\"yaxis\":{\"backgroundcolor\":\"#E5ECF6\",\"gridcolor\":\"white\",\"linecolor\":\"white\",\"showbackground\":true,\"ticks\":\"\",\"zerolinecolor\":\"white\",\"gridwidth\":2},\"zaxis\":{\"backgroundcolor\":\"#E5ECF6\",\"gridcolor\":\"white\",\"linecolor\":\"white\",\"showbackground\":true,\"ticks\":\"\",\"zerolinecolor\":\"white\",\"gridwidth\":2}},\"shapedefaults\":{\"line\":{\"color\":\"#2a3f5f\"}},\"annotationdefaults\":{\"arrowcolor\":\"#2a3f5f\",\"arrowhead\":0,\"arrowwidth\":1},\"geo\":{\"bgcolor\":\"white\",\"landcolor\":\"#E5ECF6\",\"subunitcolor\":\"white\",\"showland\":true,\"showlakes\":true,\"lakecolor\":\"white\"},\"title\":{\"x\":0.05},\"mapbox\":{\"style\":\"light\"}}}},                        {\"responsive\": true}                    ).then(function(){\n",
              "                            \n",
              "var gd = document.getElementById('6d0b45f8-9464-4c6c-9783-06e767ede276');\n",
              "var x = new MutationObserver(function (mutations, observer) {{\n",
              "        var display = window.getComputedStyle(gd).display;\n",
              "        if (!display || display === 'none') {{\n",
              "            console.log([gd, 'removed!']);\n",
              "            Plotly.purge(gd);\n",
              "            observer.disconnect();\n",
              "        }}\n",
              "}});\n",
              "\n",
              "// Listen for the removal of the full notebook cells\n",
              "var notebookContainer = gd.closest('#notebook-container');\n",
              "if (notebookContainer) {{\n",
              "    x.observe(notebookContainer, {childList: true});\n",
              "}}\n",
              "\n",
              "// Listen for the clearing of the current output cell\n",
              "var outputEl = gd.closest('.output');\n",
              "if (outputEl) {{\n",
              "    x.observe(outputEl, {childList: true});\n",
              "}}\n",
              "\n",
              "                        })                };                            </script>        </div>\n",
              "</body>\n",
              "</html>"
            ]
          },
          "metadata": {}
        }
      ]
    }
  ]
}